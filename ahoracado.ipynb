{
 "cells": [
  {
   "cell_type": "markdown",
   "metadata": {},
   "source": [
    "# Ahorcado\n",
    "\n",
    "- Reglas del juego del \"Ahorcado\":\n",
    "\n",
    "    - Un jugador elige una palabra secreta y dibuja un espacio para cada letra de la palabra.\n",
    "\n",
    "    - El otro jugador intenta adivinar letras para completar la palabra.\n",
    "\n",
    "    - Si el jugador adivinador adivina una letra correctamente, se revela en su lugar correspondiente.\n",
    "\n",
    "    - Si el jugador adivinador adivina incorrectamente, se dibuja una parte del cuerpo en la horca.\n",
    "\n",
    "    - El objetivo del jugador adivinador es adivinar la palabra antes de que se dibuje el dibujo completo en la horca.\n",
    "\n",
    "\n",
    "- Pistas para las alumnas:\n",
    "\n",
    "    1. Empieza por seleccionar una palabra secreta para que el jugador adivinador intente adivinar. Puedes crear una lista de palabras.\n",
    "\n",
    "    2. Inicializa el tablero de juego con guiones bajos (\"_\") para representar las letras no adivinadas.\n",
    "\n",
    "    3. Utiliza un bucle `while` para permitir que el jugador adivinador haga múltiples intentos hasta que adivine la palabra o se agoten los intentos.\n",
    "\n",
    "    4. Verifica si la letra adivinada por el jugador está en la palabra secreta y actualicen el tablero en consecuencia.\n",
    "\n",
    "    5. Lleva un seguimiento de las letras adivinadas y los intentos fallidos.\n",
    "\n",
    "    6. Determina las condiciones de victoria y derrota del juego, y salgan del bucle cuando se cumplan estas condiciones."
   ]
  },
  {
   "cell_type": "markdown",
   "metadata": {},
   "source": [
    "1. Bienvenida"
   ]
  },
  {
   "cell_type": "code",
   "execution_count": 44,
   "metadata": {},
   "outputs": [
    {
     "name": "stdout",
     "output_type": "stream",
     "text": [
      "Bienvenido al juego del ahorcado. Estáis listos?\n"
     ]
    }
   ],
   "source": [
    "print(\"Bienvenido al juego del ahorcado. Estáis listos?\")"
   ]
  },
  {
   "cell_type": "markdown",
   "metadata": {},
   "source": [
    "2. Jugador 1"
   ]
  },
  {
   "cell_type": "code",
   "execution_count": 13,
   "metadata": {},
   "outputs": [
    {
     "name": "stdout",
     "output_type": "stream",
     "text": [
      "Jugador 2, la palabra que tienes que adivinar tiene 4 letras\n",
      " _  _  _  _ \n",
      "Tienes 6 intentos\n"
     ]
    }
   ],
   "source": [
    "palabra_jugador1= (input(\"Jugador 1, ingresa una palabra\")).lower()\n",
    "longitud= len(palabra_jugador1)\n",
    "espacios= longitud * (\" _ \")\n",
    "# Jugador 2\n",
    "print(f\"Jugador 2, la palabra que tienes que adivinar tiene {longitud} letras\")\n",
    "print(espacios)\n",
    "print(\"Tienes 6 intentos\")"
   ]
  },
  {
   "cell_type": "markdown",
   "metadata": {},
   "source": [
    "3. Bucle"
   ]
  },
  {
   "cell_type": "code",
   "execution_count": 17,
   "metadata": {},
   "outputs": [
    {
     "name": "stdout",
     "output_type": "stream",
     "text": [
      "Has acertado!\n",
      "c _ _ _\n",
      "Has acertado!\n",
      "c a _ a\n",
      "Has acertado!\n",
      "c a s a\n",
      "ENHORABUENA! HAS GANADO :)\n"
     ]
    }
   ],
   "source": [
    "lista_errores= []\n",
    "intentos= 7\n",
    "dibujo= \"\"\"\n",
    "           ------\n",
    "           |    |\n",
    "           |   \n",
    "           |   \n",
    "           |   \n",
    "           |   \n",
    "        ------- \n",
    "        \"\"\"\n",
    "dibujo1= \"\"\"\n",
    "           ------\n",
    "           |    |\n",
    "           |    O\n",
    "           |   \n",
    "           |   \n",
    "           |   \n",
    "        ------- \n",
    "        \"\"\"\n",
    "dibujo2= \"\"\"\n",
    "           ------\n",
    "           |    |\n",
    "           |    O\n",
    "           |    |\n",
    "           |   \n",
    "           |   \n",
    "        ------- \n",
    "        \"\"\"\n",
    "dibujo3= \"\"\"\n",
    "           ------\n",
    "           |    |\n",
    "           |    O\n",
    "           |   /|\n",
    "           |   \n",
    "           |   \n",
    "        ------- \n",
    "        \"\"\"\n",
    "dibujo4= \"\"\"\n",
    "           ------\n",
    "           |    |\n",
    "           |    O\n",
    "           |   /|\\\\\n",
    "           |   \n",
    "           |   \n",
    "        ------- \n",
    "        \"\"\"\n",
    "dibujo5= \"\"\"\n",
    "           ------\n",
    "           |    |\n",
    "           |    O\n",
    "           |   /|\\\\\n",
    "           |   / \n",
    "           |   \n",
    "        ------- \n",
    "        \"\"\"\n",
    "dibujo6= \"\"\"\n",
    "           ------\n",
    "           |    |\n",
    "           |    O\n",
    "           |   /|\\\\\n",
    "           |   / \\\\\n",
    "           |   \n",
    "        ------- \n",
    "        \"\"\"\n",
    "\n",
    "convertir_palabra= list(palabra_jugador1)\n",
    "posiciones= []\n",
    "conversion_espacio= list(espacios.replace(\" \", \"\"))\n",
    "lista_aciertos= []\n",
    "\n",
    "while intentos >= 0:\n",
    "    letras_jugador2= (input(\"Jugador 2, elige una letra\")).lower()\n",
    "    if letras_jugador2 in palabra_jugador1 and letras_jugador2 not in lista_aciertos:\n",
    "        lista_aciertos.append(letras_jugador2)\n",
    "        print(\"Has acertado!\")\n",
    "        for i in range(len(palabra_jugador1)): \n",
    "            if palabra_jugador1[i] == letras_jugador2: \n",
    "                posiciones.append(i)        \n",
    "                conversion_espacio[i]= letras_jugador2\n",
    "        conversion_frase= \" \".join(conversion_espacio)\n",
    "        print(conversion_frase)\n",
    "    elif letras_jugador2 in palabra_jugador1 and letras_jugador2 in lista_aciertos:\n",
    "        print(f\"Ya lo has intentado con la letra: {letras_jugador2} \")   \n",
    "    elif letras_jugador2 not in palabra_jugador1 and letras_jugador2 not in lista_errores:\n",
    "        lista_errores.append(letras_jugador2)\n",
    "        intentos-= 1\n",
    "        print(f\"Has fallado :(. Te quedan {intentos} intentos.\")\n",
    "        print(f\"Tus intentos anteriores {lista_errores}\")  \n",
    "        if intentos == 6:\n",
    "            print(dibujo1)\n",
    "        elif intentos == 5:\n",
    "            print(dibujo2)\n",
    "        elif intentos == 4:\n",
    "            print(dibujo3)\n",
    "        elif intentos == 3:\n",
    "            print(dibujo4)\n",
    "        elif intentos == 2:\n",
    "            print(dibujo5)\n",
    "        elif intentos == 1:\n",
    "            print(dibujo6)    \n",
    "            print(\"Has perdido :(. Ya no te quedan más intentos.\")\n",
    "            break\n",
    "    elif letras_jugador2 not in palabra_jugador1 and letras_jugador2 in lista_errores:\n",
    "        print(f\"Ya lo has intentado con la letra: {letras_jugador2} \")\n",
    "    \n",
    "    if conversion_frase == \" \".join(palabra_jugador1):\n",
    "        print(\"ENHORABUENA! HAS GANADO :)\")\n",
    "        break"
   ]
  },
  {
   "cell_type": "markdown",
   "metadata": {},
   "source": [
    "4. Muñeco"
   ]
  },
  {
   "cell_type": "code",
   "execution_count": 4,
   "metadata": {},
   "outputs": [],
   "source": [
    "dibujo= \"\"\"\n",
    "           ------\n",
    "           |    |\n",
    "           |   \n",
    "           |   \n",
    "           |   \n",
    "           |   \n",
    "        ------- \n",
    "        \"\"\"\n",
    "dibujo1= \"\"\"\n",
    "           ------\n",
    "           |    |\n",
    "           |    O\n",
    "           |   \n",
    "           |   \n",
    "           |   \n",
    "        ------- \n",
    "        \"\"\"\n",
    "dibujo2= \"\"\"\n",
    "           ------\n",
    "           |    |\n",
    "           |    O\n",
    "           |    |\n",
    "           |   \n",
    "           |   \n",
    "        ------- \n",
    "        \"\"\"\n",
    "dibujo3= \"\"\"\n",
    "           ------\n",
    "           |    |\n",
    "           |    O\n",
    "           |   /|\n",
    "           |   \n",
    "           |   \n",
    "        ------- \n",
    "        \"\"\"\n",
    "dibujo4= \"\"\"\n",
    "           ------\n",
    "           |    |\n",
    "           |    O\n",
    "           |   /|\\\\\n",
    "           |   \n",
    "           |   \n",
    "        ------- \n",
    "        \"\"\"\n",
    "dibujo5= \"\"\"\n",
    "           ------\n",
    "           |    |\n",
    "           |    O\n",
    "           |   /|\\\\\n",
    "           |   / \n",
    "           |   \n",
    "        ------- \n",
    "        \"\"\"\n",
    "dibujo6= \"\"\"\n",
    "           ------\n",
    "           |    |\n",
    "           |    O\n",
    "           |   /|\\\\\n",
    "           |   / \\\\\n",
    "           |   \n",
    "        ------- \n",
    "        \"\"\""
   ]
  },
  {
   "cell_type": "markdown",
   "metadata": {},
   "source": [
    "5. Espacios por letras"
   ]
  },
  {
   "cell_type": "code",
   "execution_count": 62,
   "metadata": {},
   "outputs": [
    {
     "name": "stdout",
     "output_type": "stream",
     "text": [
      "4\n",
      "_ _ _ _ \n"
     ]
    }
   ],
   "source": [
    "palabra= \"hala\"\n",
    "print(len(palabra))\n",
    "longitud= len(palabra)\n",
    "espacios= longitud * (\"_ \")\n",
    "print(espacios)"
   ]
  },
  {
   "cell_type": "code",
   "execution_count": 73,
   "metadata": {},
   "outputs": [
    {
     "name": "stdout",
     "output_type": "stream",
     "text": [
      "h _ _ _\n"
     ]
    }
   ],
   "source": [
    "convertir_palabra= list(palabra)\n",
    "letra= \"h\"\n",
    "posiciones= []\n",
    "conversion_espacio= list(espacios.replace(\" \", \"\"))\n",
    "for i in range(len(palabra)): \n",
    "    if palabra[i] == letra: \n",
    "        posiciones.append(i)        \n",
    "        conversion_espacio[i]= letra\n",
    "conversion_frase= \" \".join(conversion_espacio)\n",
    "print(conversion_frase)"
   ]
  },
  {
   "cell_type": "code",
   "execution_count": 64,
   "metadata": {},
   "outputs": [
    {
     "data": {
      "text/plain": [
       "['_', '_', '_', '_']"
      ]
     },
     "execution_count": 64,
     "metadata": {},
     "output_type": "execute_result"
    }
   ],
   "source": [
    "conversion_espacio= list(espacios.replace(\" \", \"\"))\n",
    "conversion_espacio"
   ]
  },
  {
   "cell_type": "code",
   "execution_count": 65,
   "metadata": {},
   "outputs": [
    {
     "data": {
      "text/plain": [
       "['h', '_', '_', '_']"
      ]
     },
     "execution_count": 65,
     "metadata": {},
     "output_type": "execute_result"
    }
   ],
   "source": [
    "conversion_espacio[0]= \"h\"\n",
    "conversion_espacio"
   ]
  },
  {
   "cell_type": "code",
   "execution_count": 66,
   "metadata": {},
   "outputs": [
    {
     "data": {
      "text/plain": [
       "['h', '_', 'o', '_']"
      ]
     },
     "execution_count": 66,
     "metadata": {},
     "output_type": "execute_result"
    }
   ],
   "source": [
    "conversion_espacio[2]= \"o\"\n",
    "conversion_espacio"
   ]
  },
  {
   "cell_type": "code",
   "execution_count": null,
   "metadata": {},
   "outputs": [
    {
     "name": "stdout",
     "output_type": "stream",
     "text": [
      "h_o_\n"
     ]
    }
   ],
   "source": [
    "conversion_frase= \"\".join(conversion_espacio)\n",
    "print(conversion_frase)"
   ]
  },
  {
   "cell_type": "markdown",
   "metadata": {},
   "source": [
    "6. Jugador 2 fallo"
   ]
  },
  {
   "cell_type": "code",
   "execution_count": null,
   "metadata": {},
   "outputs": [
    {
     "name": "stdout",
     "output_type": "stream",
     "text": [
      "Has fallado :(. Te quedan 6 intentos.\n",
      "Tus intentos anteriores ['q']\n",
      "\n",
      "           ------\n",
      "           |    |\n",
      "           |    O\n",
      "           |   \n",
      "           |   \n",
      "           |   \n",
      "        ------- \n",
      "        \n",
      "Has fallado :(. Te quedan 6 intentos.\n",
      "Tus intentos anteriores ['q', 'p']\n",
      "\n",
      "           ------\n",
      "           |    |\n",
      "           |    O\n",
      "           |   \n",
      "           |   \n",
      "           |   \n",
      "        ------- \n",
      "        \n",
      "Has fallado :(. Te quedan 6 intentos.\n",
      "Tus intentos anteriores ['q', 'p', 'a']\n",
      "\n",
      "           ------\n",
      "           |    |\n",
      "           |    O\n",
      "           |   \n",
      "           |   \n",
      "           |   \n",
      "        ------- \n",
      "        \n",
      "Has fallado :(. Te quedan 6 intentos.\n",
      "Tus intentos anteriores ['q', 'p', 'a', 'w']\n",
      "\n",
      "           ------\n",
      "           |    |\n",
      "           |    O\n",
      "           |   \n",
      "           |   \n",
      "           |   \n",
      "        ------- \n",
      "        \n",
      "Has fallado :(. Te quedan 6 intentos.\n",
      "Tus intentos anteriores ['q', 'p', 'a', 'w', 'ñ']\n",
      "\n",
      "           ------\n",
      "           |    |\n",
      "           |    O\n",
      "           |   \n",
      "           |   \n",
      "           |   \n",
      "        ------- \n",
      "        \n"
     ]
    },
    {
     "ename": "KeyboardInterrupt",
     "evalue": "Interrupted by user",
     "output_type": "error",
     "traceback": [
      "\u001b[1;31m---------------------------------------------------------------------------\u001b[0m",
      "\u001b[1;31mKeyboardInterrupt\u001b[0m                         Traceback (most recent call last)",
      "Cell \u001b[1;32mIn[41], line 5\u001b[0m\n\u001b[0;32m      3\u001b[0m \u001b[38;5;28;01mwhile\u001b[39;00m intentos \u001b[38;5;241m>\u001b[39m\u001b[38;5;241m0\u001b[39m:\n\u001b[0;32m      4\u001b[0m     intentos\u001b[38;5;241m=\u001b[39m \u001b[38;5;241m7\u001b[39m\n\u001b[1;32m----> 5\u001b[0m     letras_jugador2\u001b[38;5;241m=\u001b[39m (\u001b[38;5;28;43minput\u001b[39;49m\u001b[43m(\u001b[49m\u001b[38;5;124;43m\"\u001b[39;49m\u001b[38;5;124;43mJugador 2, elige una letra\u001b[39;49m\u001b[38;5;124;43m\"\u001b[39;49m\u001b[43m)\u001b[49m)\u001b[38;5;241m.\u001b[39mlower()\n\u001b[0;32m      6\u001b[0m     \u001b[38;5;28;01mif\u001b[39;00m letras_jugador2 \u001b[38;5;129;01mnot\u001b[39;00m \u001b[38;5;129;01min\u001b[39;00m palabra_jugador1 \u001b[38;5;129;01mand\u001b[39;00m letras_jugador2 \u001b[38;5;129;01mnot\u001b[39;00m \u001b[38;5;129;01min\u001b[39;00m lista_errores:\n\u001b[0;32m      7\u001b[0m         lista_errores\u001b[38;5;241m.\u001b[39mappend(letras_jugador2)\n",
      "File \u001b[1;32m~\\AppData\\Roaming\\Python\\Python313\\site-packages\\ipykernel\\kernelbase.py:1282\u001b[0m, in \u001b[0;36mKernel.raw_input\u001b[1;34m(self, prompt)\u001b[0m\n\u001b[0;32m   1280\u001b[0m     msg \u001b[38;5;241m=\u001b[39m \u001b[38;5;124m\"\u001b[39m\u001b[38;5;124mraw_input was called, but this frontend does not support input requests.\u001b[39m\u001b[38;5;124m\"\u001b[39m\n\u001b[0;32m   1281\u001b[0m     \u001b[38;5;28;01mraise\u001b[39;00m StdinNotImplementedError(msg)\n\u001b[1;32m-> 1282\u001b[0m \u001b[38;5;28;01mreturn\u001b[39;00m \u001b[38;5;28;43mself\u001b[39;49m\u001b[38;5;241;43m.\u001b[39;49m\u001b[43m_input_request\u001b[49m\u001b[43m(\u001b[49m\n\u001b[0;32m   1283\u001b[0m \u001b[43m    \u001b[49m\u001b[38;5;28;43mstr\u001b[39;49m\u001b[43m(\u001b[49m\u001b[43mprompt\u001b[49m\u001b[43m)\u001b[49m\u001b[43m,\u001b[49m\n\u001b[0;32m   1284\u001b[0m \u001b[43m    \u001b[49m\u001b[38;5;28;43mself\u001b[39;49m\u001b[38;5;241;43m.\u001b[39;49m\u001b[43m_parent_ident\u001b[49m\u001b[43m[\u001b[49m\u001b[38;5;124;43m\"\u001b[39;49m\u001b[38;5;124;43mshell\u001b[39;49m\u001b[38;5;124;43m\"\u001b[39;49m\u001b[43m]\u001b[49m\u001b[43m,\u001b[49m\n\u001b[0;32m   1285\u001b[0m \u001b[43m    \u001b[49m\u001b[38;5;28;43mself\u001b[39;49m\u001b[38;5;241;43m.\u001b[39;49m\u001b[43mget_parent\u001b[49m\u001b[43m(\u001b[49m\u001b[38;5;124;43m\"\u001b[39;49m\u001b[38;5;124;43mshell\u001b[39;49m\u001b[38;5;124;43m\"\u001b[39;49m\u001b[43m)\u001b[49m\u001b[43m,\u001b[49m\n\u001b[0;32m   1286\u001b[0m \u001b[43m    \u001b[49m\u001b[43mpassword\u001b[49m\u001b[38;5;241;43m=\u001b[39;49m\u001b[38;5;28;43;01mFalse\u001b[39;49;00m\u001b[43m,\u001b[49m\n\u001b[0;32m   1287\u001b[0m \u001b[43m\u001b[49m\u001b[43m)\u001b[49m\n",
      "File \u001b[1;32m~\\AppData\\Roaming\\Python\\Python313\\site-packages\\ipykernel\\kernelbase.py:1325\u001b[0m, in \u001b[0;36mKernel._input_request\u001b[1;34m(self, prompt, ident, parent, password)\u001b[0m\n\u001b[0;32m   1322\u001b[0m \u001b[38;5;28;01mexcept\u001b[39;00m \u001b[38;5;167;01mKeyboardInterrupt\u001b[39;00m:\n\u001b[0;32m   1323\u001b[0m     \u001b[38;5;66;03m# re-raise KeyboardInterrupt, to truncate traceback\u001b[39;00m\n\u001b[0;32m   1324\u001b[0m     msg \u001b[38;5;241m=\u001b[39m \u001b[38;5;124m\"\u001b[39m\u001b[38;5;124mInterrupted by user\u001b[39m\u001b[38;5;124m\"\u001b[39m\n\u001b[1;32m-> 1325\u001b[0m     \u001b[38;5;28;01mraise\u001b[39;00m \u001b[38;5;167;01mKeyboardInterrupt\u001b[39;00m(msg) \u001b[38;5;28;01mfrom\u001b[39;00m\u001b[38;5;250m \u001b[39m\u001b[38;5;28;01mNone\u001b[39;00m\n\u001b[0;32m   1326\u001b[0m \u001b[38;5;28;01mexcept\u001b[39;00m \u001b[38;5;167;01mException\u001b[39;00m:\n\u001b[0;32m   1327\u001b[0m     \u001b[38;5;28mself\u001b[39m\u001b[38;5;241m.\u001b[39mlog\u001b[38;5;241m.\u001b[39mwarning(\u001b[38;5;124m\"\u001b[39m\u001b[38;5;124mInvalid Message:\u001b[39m\u001b[38;5;124m\"\u001b[39m, exc_info\u001b[38;5;241m=\u001b[39m\u001b[38;5;28;01mTrue\u001b[39;00m)\n",
      "\u001b[1;31mKeyboardInterrupt\u001b[0m: Interrupted by user"
     ]
    }
   ],
   "source": [
    "lista_errores= []\n",
    "intentos= 7\n",
    "while intentos >0:\n",
    "    letras_jugador2= (input(\"Jugador 2, elige una letra\")).lower()\n",
    "    if letras_jugador2 not in palabra_jugador1 and letras_jugador2 not in lista_errores:\n",
    "        lista_errores.append(letras_jugador2)\n",
    "        intentos-= 1\n",
    "        print(f\"Has fallado :(. Te quedan {intentos} intentos.\")\n",
    "        print(f\"Tus intentos anteriores {lista_errores}\")  \n",
    "        if intentos == 6:\n",
    "            print(dibujo1)\n",
    "        elif intentos == 5:\n",
    "            print(dibujo2)\n",
    "        elif intentos == 4:\n",
    "            print(dibujo3)\n",
    "        elif intentos == 3:\n",
    "            print(dibujo4)\n",
    "        elif intentos == 2:\n",
    "            print(dibujo5)\n",
    "        elif intentos == 1:\n",
    "            print(dibujo6)    \n",
    "            print(\"Has perdido :(. Ya no te quedan más intentos.\")\n",
    "            break\n",
    "    elif letras_jugador2 not in palabra_jugador1 and letras_jugador2 in lista_errores:\n",
    "        print(f\"Ya lo has intentado con la letra: {letras_jugador2} \")"
   ]
  },
  {
   "cell_type": "markdown",
   "metadata": {},
   "source": [
    "7. Jugador 2 acierto"
   ]
  },
  {
   "cell_type": "code",
   "execution_count": 12,
   "metadata": {},
   "outputs": [
    {
     "name": "stdout",
     "output_type": "stream",
     "text": [
      "Has acertado!\n",
      "c _ _ _\n",
      "Has acertado!\n",
      "c a _ a\n",
      "Has acertado!\n",
      "c a s a\n",
      "Ya lo has intentado con la letra: a \n",
      "Ya lo has intentado con la letra: s \n"
     ]
    },
    {
     "ename": "KeyboardInterrupt",
     "evalue": "Interrupted by user",
     "output_type": "error",
     "traceback": [
      "\u001b[1;31m---------------------------------------------------------------------------\u001b[0m",
      "\u001b[1;31mKeyboardInterrupt\u001b[0m                         Traceback (most recent call last)",
      "Cell \u001b[1;32mIn[12], line 8\u001b[0m\n\u001b[0;32m      5\u001b[0m lista_aciertos\u001b[38;5;241m=\u001b[39m []\n\u001b[0;32m      7\u001b[0m \u001b[38;5;28;01mwhile\u001b[39;00m intentos \u001b[38;5;241m>\u001b[39m \u001b[38;5;241m0\u001b[39m:\n\u001b[1;32m----> 8\u001b[0m     letras_jugador2\u001b[38;5;241m=\u001b[39m (\u001b[38;5;28;43minput\u001b[39;49m\u001b[43m(\u001b[49m\u001b[38;5;124;43m\"\u001b[39;49m\u001b[38;5;124;43mJugador 2, elige una letra\u001b[39;49m\u001b[38;5;124;43m\"\u001b[39;49m\u001b[43m)\u001b[49m)\u001b[38;5;241m.\u001b[39mlower()\n\u001b[0;32m      9\u001b[0m     \u001b[38;5;28;01mif\u001b[39;00m letras_jugador2 \u001b[38;5;129;01min\u001b[39;00m palabra_jugador1 \u001b[38;5;129;01mand\u001b[39;00m letras_jugador2 \u001b[38;5;129;01mnot\u001b[39;00m \u001b[38;5;129;01min\u001b[39;00m lista_aciertos:\n\u001b[0;32m     10\u001b[0m         lista_aciertos\u001b[38;5;241m.\u001b[39mappend(letras_jugador2)\n",
      "File \u001b[1;32m~\\AppData\\Roaming\\Python\\Python313\\site-packages\\ipykernel\\kernelbase.py:1282\u001b[0m, in \u001b[0;36mKernel.raw_input\u001b[1;34m(self, prompt)\u001b[0m\n\u001b[0;32m   1280\u001b[0m     msg \u001b[38;5;241m=\u001b[39m \u001b[38;5;124m\"\u001b[39m\u001b[38;5;124mraw_input was called, but this frontend does not support input requests.\u001b[39m\u001b[38;5;124m\"\u001b[39m\n\u001b[0;32m   1281\u001b[0m     \u001b[38;5;28;01mraise\u001b[39;00m StdinNotImplementedError(msg)\n\u001b[1;32m-> 1282\u001b[0m \u001b[38;5;28;01mreturn\u001b[39;00m \u001b[38;5;28;43mself\u001b[39;49m\u001b[38;5;241;43m.\u001b[39;49m\u001b[43m_input_request\u001b[49m\u001b[43m(\u001b[49m\n\u001b[0;32m   1283\u001b[0m \u001b[43m    \u001b[49m\u001b[38;5;28;43mstr\u001b[39;49m\u001b[43m(\u001b[49m\u001b[43mprompt\u001b[49m\u001b[43m)\u001b[49m\u001b[43m,\u001b[49m\n\u001b[0;32m   1284\u001b[0m \u001b[43m    \u001b[49m\u001b[38;5;28;43mself\u001b[39;49m\u001b[38;5;241;43m.\u001b[39;49m\u001b[43m_parent_ident\u001b[49m\u001b[43m[\u001b[49m\u001b[38;5;124;43m\"\u001b[39;49m\u001b[38;5;124;43mshell\u001b[39;49m\u001b[38;5;124;43m\"\u001b[39;49m\u001b[43m]\u001b[49m\u001b[43m,\u001b[49m\n\u001b[0;32m   1285\u001b[0m \u001b[43m    \u001b[49m\u001b[38;5;28;43mself\u001b[39;49m\u001b[38;5;241;43m.\u001b[39;49m\u001b[43mget_parent\u001b[49m\u001b[43m(\u001b[49m\u001b[38;5;124;43m\"\u001b[39;49m\u001b[38;5;124;43mshell\u001b[39;49m\u001b[38;5;124;43m\"\u001b[39;49m\u001b[43m)\u001b[49m\u001b[43m,\u001b[49m\n\u001b[0;32m   1286\u001b[0m \u001b[43m    \u001b[49m\u001b[43mpassword\u001b[49m\u001b[38;5;241;43m=\u001b[39;49m\u001b[38;5;28;43;01mFalse\u001b[39;49;00m\u001b[43m,\u001b[49m\n\u001b[0;32m   1287\u001b[0m \u001b[43m\u001b[49m\u001b[43m)\u001b[49m\n",
      "File \u001b[1;32m~\\AppData\\Roaming\\Python\\Python313\\site-packages\\ipykernel\\kernelbase.py:1325\u001b[0m, in \u001b[0;36mKernel._input_request\u001b[1;34m(self, prompt, ident, parent, password)\u001b[0m\n\u001b[0;32m   1322\u001b[0m \u001b[38;5;28;01mexcept\u001b[39;00m \u001b[38;5;167;01mKeyboardInterrupt\u001b[39;00m:\n\u001b[0;32m   1323\u001b[0m     \u001b[38;5;66;03m# re-raise KeyboardInterrupt, to truncate traceback\u001b[39;00m\n\u001b[0;32m   1324\u001b[0m     msg \u001b[38;5;241m=\u001b[39m \u001b[38;5;124m\"\u001b[39m\u001b[38;5;124mInterrupted by user\u001b[39m\u001b[38;5;124m\"\u001b[39m\n\u001b[1;32m-> 1325\u001b[0m     \u001b[38;5;28;01mraise\u001b[39;00m \u001b[38;5;167;01mKeyboardInterrupt\u001b[39;00m(msg) \u001b[38;5;28;01mfrom\u001b[39;00m\u001b[38;5;250m \u001b[39m\u001b[38;5;28;01mNone\u001b[39;00m\n\u001b[0;32m   1326\u001b[0m \u001b[38;5;28;01mexcept\u001b[39;00m \u001b[38;5;167;01mException\u001b[39;00m:\n\u001b[0;32m   1327\u001b[0m     \u001b[38;5;28mself\u001b[39m\u001b[38;5;241m.\u001b[39mlog\u001b[38;5;241m.\u001b[39mwarning(\u001b[38;5;124m\"\u001b[39m\u001b[38;5;124mInvalid Message:\u001b[39m\u001b[38;5;124m\"\u001b[39m, exc_info\u001b[38;5;241m=\u001b[39m\u001b[38;5;28;01mTrue\u001b[39;00m)\n",
      "\u001b[1;31mKeyboardInterrupt\u001b[0m: Interrupted by user"
     ]
    }
   ],
   "source": [
    "intentos= 7\n",
    "convertir_palabra= list(palabra_jugador1)\n",
    "posiciones= []\n",
    "conversion_espacio= list(espacios.replace(\" \", \"\"))\n",
    "lista_aciertos= []\n",
    "\n",
    "while intentos > 0:\n",
    "    letras_jugador2= (input(\"Jugador 2, elige una letra\")).lower()\n",
    "    if letras_jugador2 in palabra_jugador1 and letras_jugador2 not in lista_aciertos:\n",
    "        lista_aciertos.append(letras_jugador2)\n",
    "        print(\"Has acertado!\")\n",
    "        for i in range(len(palabra_jugador1)): \n",
    "            if palabra_jugador1[i] == letras_jugador2: \n",
    "                posiciones.append(i)        \n",
    "                conversion_espacio[i]= letras_jugador2\n",
    "        conversion_frase= \" \".join(conversion_espacio)\n",
    "        print(conversion_frase)\n",
    "        if conversion_frase == palabra_jugador1:\n",
    "            print(\"ENHORABUENA! HAS GANADO :)\")\n",
    "            break\n",
    "    elif letras_jugador2 in palabra_jugador1 and letras_jugador2 in lista_aciertos:\n",
    "        print(f\"Ya lo has intentado con la letra: {letras_jugador2} \") "
   ]
  }
 ],
 "metadata": {
  "kernelspec": {
   "display_name": "Python 3",
   "language": "python",
   "name": "python3"
  },
  "language_info": {
   "codemirror_mode": {
    "name": "ipython",
    "version": 3
   },
   "file_extension": ".py",
   "mimetype": "text/x-python",
   "name": "python",
   "nbconvert_exporter": "python",
   "pygments_lexer": "ipython3",
   "version": "3.13.2"
  }
 },
 "nbformat": 4,
 "nbformat_minor": 2
}
